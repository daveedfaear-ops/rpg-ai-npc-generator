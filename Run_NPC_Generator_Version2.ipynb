{
 "cells": [
  {
   "cell_type": "markdown",
   "metadata": {},
   "source": [
    "# RPG AI NPC Generator\n",
    "\n",
    "Welcome! Click the cell below and press ▶️ Run to launch the NPC Generator app.\n",
    "\n",
    "You can also open a Terminal (from the File > New menu) and run:\n",
    "```\n",
    "python NPC_Generator.py\n",
    "```\n",
    "for command-line use."
   ]
  },
  {
   "cell_type": "code",
   "execution_count": null,
   "metadata": {},
   "outputs": [],
   "source": [
    "!python NPC_Generator.py"
   ]
  }
 ],
 "metadata": {
  "kernelspec": {
   "display_name": "Python 3",
   "language": "python",
   "name": "python3"
  },
  "language_info": {
   "name": "python",
   "version": ""
  }
 },
 "nbformat": 4,
 "nbformat_minor": 2
}
